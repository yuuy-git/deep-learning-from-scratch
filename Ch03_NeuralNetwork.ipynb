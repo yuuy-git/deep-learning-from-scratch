{
 "cells": [
  {
   "cell_type": "markdown",
   "metadata": {},
   "source": [
    "# Chapter 3: Neural Network\n",
    "\n",
    "\n",
    "## 本章のまとめ\n",
    "  \n",
    "- ニューラルネットワークでは、活性化関数としてシグモイド関数やReLU関数のような滑らかに変化する関数を利用する。\n",
    "- NumPyの多次元配列を馬雨使うことで、ニューラルネットワークを効率よく実装できる。\n",
    "- 機械学習の問題は、回帰問題と分類問題に大別できる。\n",
    "- 出力層で使用する活性化関数は、回帰問題では恒等関数、分類問題ではソフトまっk数関数を一般的に利用する。\n",
    "- 入力データでは、出力層のニューロンの数を分類するクラス数に設定する。\n",
    "- 入力データのまとまりをバッチと言い、バッチ単位で推論処理を行うことで、計算を高速化できる。"
   ]
  },
  {
   "cell_type": "markdown",
   "metadata": {},
   "source": [
    "## パーセプトロンからニューラルネットワークへ\n",
    "\n",
    "パーセプトロンは層を重ねることによって柔軟な表現が可能な一方で、  \n",
    "それぞれの層の重みは全て手動で設定しなければならず、  \n",
    "強みである複雑な表現を行うことへのハードルが高いという残念さを持っていた。  \n",
    "  \n",
    "ニューラルネットワークはこの残念さを解消すべく、**適切な重みを自動で学習できるようにした。**  \n",
    "  \n",
    "ニューラルネットワークは多層からなる。  \n",
    "一番左の層を入力層、一番右の層を*出力層*、その中間の層を*中間層（または隠れ層）*と呼ぶ。  \n",
    "なお、ここでは一番左から、「第0層、第1層、第2層」と0スタートで層を数える。  \n",
    "  \n",
    "$\\begin{eqnarray}\n",
    "\\left\\{\n",
    "\\begin{array}{l}\n",
    "y=0&(b+w_{1}x_{1}+w_{2}x_{2}\\leq0)\\\\\n",
    "y=1&(b+w_{1}x_{1}+w_{2}x_{2}>0)\n",
    "\\end{array}\n",
    "\\right.\n",
    "\\nonumber\n",
    "\\end{eqnarray}$\n",
    "  \n",
    "上記のパーセプトロンの式をシンプルに書き換える。  \n",
    "なお$h$は係数ではなく関数$h()$を表している。  \n",
    "  \n",
    "$\\begin{eqnarray}\n",
    "y=h(b+w_{1}x_{1}+w_{2}x_{2})\\\\\n",
    "\\left\\{\n",
    "\\begin{array}{l}\n",
    "h(x)=0&(x\\leq0)\\\\\n",
    "h(x)=1&(x>0)\n",
    "\\end{array}\n",
    "\\right.\n",
    "\\nonumber\n",
    "\\end{eqnarray}$\n",
    "  \n",
    "$h(x)$、つまり$\\begin{eqnarray} b+w_{1}x_{1}+w_{2}x_{2} \\nonumber\\end{eqnarray}$の符号によって出力を決定しているので、  \n",
    "先程の式と同じことを表していることがわかる。  \n",
    "  \n",
    "ここで登場した$h(x)$という関数（入力信号の総和を出力信号に変換する関数）のことを、  \n",
    "一般的には*活性化関数（activation function）*と呼ぶ。  \n",
    "名前の通り、活性化関数は入力信号の総和がどのように活性化するか（発火するか）を決定する。  \n",
    "  \n",
    "更に上記の式を書き換えると、以下の2段階の式にわけられる。  \n",
    "\n",
    "$\\begin{eqnarray}\n",
    "\\left\\{\n",
    "\\begin{array}{l}\n",
    "a=b+w_{1}x_{1}+w_{2}x_{2}\\\\\n",
    "y=h(a)\n",
    "\\end{array}\n",
    "\\right.\n",
    "\\nonumber\n",
    "\\end{eqnarray}$  \n",
    "  \n",
    "**つまり、重み付き入力信号とバイアスの総和が$a$というノードになり、  \n",
    "活性化関数$h()$によって$y$というノードに変換されている。（本書図3−4）**"
   ]
  },
  {
   "cell_type": "markdown",
   "metadata": {},
   "source": [
    "## 活性化関数\n",
    "\n",
    "### シグモイド関数\n",
    "  \n",
    "$\\begin{eqnarray}\n",
    "h(x)=\\frac{1}{1+exp(-x)}\n",
    "\\nonumber\n",
    "\\end{eqnarray}$\n",
    "  \n",
    "ニューラルネットワークでは上記のシグモイド関数を活性化関数に用いて、  \n",
    "信号の変換を行い、その変換された信号が次のニューロンへ伝えられる。  \n",
    "実はパーセプトロンとニューラルネットワークの違いは、この活性化関数だけ。"
   ]
  },
  {
   "cell_type": "markdown",
   "metadata": {},
   "source": [
    "### ステップ関数の実装\n",
    "  \n",
    "*ステップ関数*とは、以下の式のように、入力が0を超えたら1を出力し、  \n",
    "それ以外は0を出力する関数のこと。\n",
    "  \n",
    "$\\begin{eqnarray}\n",
    "\\left\\{\n",
    "\\begin{array}{l}\n",
    "h(x)=0&(x\\leq0)\\\\\n",
    "h(x)=1&(x>0)\n",
    "\\end{array}\n",
    "\\right.\n",
    "\\nonumber\n",
    "\\end{eqnarray}$  \n",
    "  \n",
    "単純なステップ関数を実装してみる。"
   ]
  },
  {
   "cell_type": "code",
   "execution_count": 1,
   "metadata": {},
   "outputs": [],
   "source": [
    "def step_function(x):\n",
    "    if x > 0:\n",
    "        return 1\n",
    "    else:\n",
    "        return 0"
   ]
  },
  {
   "cell_type": "markdown",
   "metadata": {},
   "source": [
    "この実装方法だと、引数に数値を一つのみしか入れられず、NumPy配列に対応していない。  \n",
    "今後のことを考え以下のように改良を加える。"
   ]
  },
  {
   "cell_type": "code",
   "execution_count": 2,
   "metadata": {},
   "outputs": [],
   "source": [
    "def step_function(x):\n",
    "    y = x > 0\n",
    "    return y.astype(np.int)"
   ]
  },
  {
   "cell_type": "markdown",
   "metadata": {},
   "source": [
    "**上記の関数ではブーリアンの配列を作成し、それを数値に変換することでステップ関数と同じ機能を実装している。**  \n",
    "上記の関数をステップごとに分解して実行してみる。"
   ]
  },
  {
   "cell_type": "code",
   "execution_count": 3,
   "metadata": {},
   "outputs": [
    {
     "data": {
      "text/plain": [
       "array([-1,  1,  2])"
      ]
     },
     "execution_count": 3,
     "metadata": {},
     "output_type": "execute_result"
    }
   ],
   "source": [
    "import numpy as np\n",
    "x = np.array([-1, 1, 2])\n",
    "x"
   ]
  },
  {
   "cell_type": "code",
   "execution_count": 4,
   "metadata": {},
   "outputs": [
    {
     "data": {
      "text/plain": [
       "array([False,  True,  True])"
      ]
     },
     "execution_count": 4,
     "metadata": {},
     "output_type": "execute_result"
    }
   ],
   "source": [
    "y = x > 0\n",
    "y"
   ]
  },
  {
   "cell_type": "code",
   "execution_count": 5,
   "metadata": {},
   "outputs": [
    {
     "data": {
      "text/plain": [
       "array([0, 1, 1])"
      ]
     },
     "execution_count": 5,
     "metadata": {},
     "output_type": "execute_result"
    }
   ],
   "source": [
    "y = y.astype(np.int)\n",
    "y"
   ]
  },
  {
   "cell_type": "markdown",
   "metadata": {},
   "source": [
    "上記で定義したステップ関数をグラフで表してみる。"
   ]
  },
  {
   "cell_type": "code",
   "execution_count": 6,
   "metadata": {},
   "outputs": [
    {
     "data": {
      "image/png": "[encoded data removed]",
      "text/plain": [
       "<Figure size 432x288 with 1 Axes>"
      ]
     },
     "metadata": {},
     "output_type": "display_data"
    }
   ],
   "source": [
    "%matplotlib inline\n",
    "import numpy as np\n",
    "import matplotlib.pyplot as plt\n",
    "\n",
    "def step_function(x):\n",
    "    return np.array(x > 0, dtype=np.int)\n",
    "\n",
    "x = np.arange(-5, 5, 0.1)\n",
    "y = step_function(x)\n",
    "plt.plot(x, y)\n",
    "plt.ylim(-0.1, 1.1)  # setting the range of y\n",
    "plt.show()"
   ]
  },
  {
   "cell_type": "markdown",
   "metadata": {},
   "source": [
    "## シグモイド関数の実装\n",
    "  \n",
    "次にシグモイド関数を実装する。  \n",
    "Pythonでは次のように書くことができる。"
   ]
  },
  {
   "cell_type": "code",
   "execution_count": 7,
   "metadata": {},
   "outputs": [],
   "source": [
    "def sigmoid(x):\n",
    "    return 1 / (1 + np.exp(-x))"
   ]
  },
  {
   "cell_type": "markdown",
   "metadata": {},
   "source": [
    "上記の定義でもNumPy配列にきちんと対応していることを確認する。"
   ]
  },
  {
   "cell_type": "code",
   "execution_count": 8,
   "metadata": {},
   "outputs": [
    {
     "data": {
      "text/plain": [
       "array([0.26894142, 0.73105858, 0.88079708])"
      ]
     },
     "execution_count": 8,
     "metadata": {},
     "output_type": "execute_result"
    }
   ],
   "source": [
    "x = np.array([-1, 1, 2])\n",
    "sigmoid(x)"
   ]
  },
  {
   "cell_type": "markdown",
   "metadata": {},
   "source": [
    "NumPy配列にも対応しているのは、実はNumPyのブロードキャスト機能のおかげ。  \n",
    "1章でも確認したように、スカラー値をNumPy配列として扱って計算してくれる。"
   ]
  },
  {
   "cell_type": "code",
   "execution_count": 9,
   "metadata": {},
   "outputs": [
    {
     "data": {
      "text/plain": [
       "array([2, 3, 4])"
      ]
     },
     "execution_count": 9,
     "metadata": {},
     "output_type": "execute_result"
    }
   ],
   "source": [
    "x = np.array([1, 2, 3])\n",
    "1 + x"
   ]
  },
  {
   "cell_type": "code",
   "execution_count": 10,
   "metadata": {},
   "outputs": [
    {
     "data": {
      "text/plain": [
       "array([1.        , 0.5       , 0.33333333])"
      ]
     },
     "execution_count": 10,
     "metadata": {},
     "output_type": "execute_result"
    }
   ],
   "source": [
    "1 / x"
   ]
  },
  {
   "cell_type": "markdown",
   "metadata": {},
   "source": [
    "グラフを実装すると以下のようになる。"
   ]
  },
  {
   "cell_type": "code",
   "execution_count": 11,
   "metadata": {},
   "outputs": [
    {
     "data": {
      "image/png": "[encoded data removed]",
      "text/plain": [
       "<Figure size 432x288 with 1 Axes>"
      ]
     },
     "metadata": {},
     "output_type": "display_data"
    }
   ],
   "source": [
    "x = np.arange(-5, 5, 0.1)\n",
    "y = sigmoid(x)\n",
    "plt.plot(x, y)\n",
    "plt.ylim(-0.1, 1.1)\n",
    "plt.show()"
   ]
  },
  {
   "cell_type": "markdown",
   "metadata": {},
   "source": [
    "ステップ関数とシグモイド関数を比較してみる。"
   ]
  },
  {
   "cell_type": "code",
   "execution_count": 12,
   "metadata": {},
   "outputs": [
    {
     "data": {
      "image/png": "[encoded data removed]",
      "text/plain": [
       "<Figure size 432x288 with 1 Axes>"
      ]
     },
     "metadata": {},
     "output_type": "display_data"
    }
   ],
   "source": [
    "x = np.arange(-5, 5, 0.1)\n",
    "y1 = step_function(x)\n",
    "y2 = sigmoid(x)\n",
    "plt.plot(x, y1, label='step')\n",
    "plt.plot(x, y2, linestyle='--', label='sigmoid')\n",
    "plt.xlabel('x')\n",
    "plt.ylabel('y')\n",
    "plt.title('step vs sigmoid')\n",
    "plt.ylim(-0.1, 1.1)  # setting the range of y\n",
    "plt.legend()\n",
    "plt.show()"
   ]
  },
  {
   "cell_type": "markdown",
   "metadata": {},
   "source": [
    "シグモイド関数とステップ関数を比べると以下のような特徴に気付く。  \n",
    "  \n",
    "相違点  \n",
    "- シグモイド関数のほうが滑らかな曲線であり、入力に対して連続的に出力が変化する。  \n",
    "- ステップ関数の出力がバイナリなのに対して、シグモイド関数は0.731...などの実数値を出力する。  \n",
    "  \n",
    "共通点\n",
    "- 両者とも入力値が小さいときには出力が0に近づき、入力値が大きいときには出力が1に近づく。  \n",
    "- どんなに入力信号の値が大きくても、出力信号の値を0から1の間に押し込むことができる。\n",
    "  \n",
    "3つ目の特徴からは、入力信号が重要な情報であれば大きな値が、重要でなければ小さな値が出力されることがわかる。  \n",
    "また、**一番重要な共通点として非線形関数であることが挙げられる。**  \n",
    "  \n",
    "線形関数とは、出力が入力の定数倍になるような、直線で表される関数のことで、  \n",
    "非線形関数とは直線で表すことのできない関数のこと。  \n",
    "  \n",
    "**ニューラルネットワークでは、活性化関数に非線形関数を用いる必要がある。**  \n",
    "**なぜなら、線形関数を用いると、ニューラルネットワークで層を深くする意味がなくなるから。**  \n",
    "これはどんなに層を深くしてもそれと同じことを行う「隠れ層のないネットワーク」が必ず存在するという事実に起因する。  \n",
    "  \n",
    "例えば、線形関数である$\\begin{eqnarray}h(x)=cx\\end{eqnarray}$を活性化関数として、  \n",
    "$\\begin{eqnarray}y(x)=h(h(h(x)))\\end{eqnarray}$という3層のネットワークについて考えてみる。  \n",
    "  \n",
    "この計算は$\\begin{eqnarray}y(x)=c\\times c\\times c\\times x\\end{eqnarray}$の掛け算を行うが、$\\begin{eqnarray}y(x)=ax&&(a=c^{3})\\end{eqnarray}$という1回の掛け算で表すことができる。  \n",
    "つまり、隠れ層のない1層のネットワークで表すことができるので、線形関数を用いると多層ネットワークにする利点を活かすことができない。  \n",
    "  \n",
    "これまで述べた通り、パーセプトロンは多層化することで複雑な表現を可能にしたが、重みを手動で設定しなければならなかった。\n",
    "その欠点を補い、自動で適切な重みを設定することで多層表現を容易にしたのがニューラルネットワークである。\n",
    "そのニューラルネットワークの強みである多層表現を行うには、活性化関数に非線形関数を用いる必要がある。"
   ]
  },
  {
   "cell_type": "markdown",
   "metadata": {},
   "source": [
    "### ReLu関数\n",
    "  \n",
    "ニューラルネットワークの世界では古くからシグモイド関数が利用されていたが、最近では*ReLu関数*が用いられる。  \n",
    "ReLuは入力が0を超えていればその入力値をそのまま出力し、0以下なら0を出力する関数であり、数式では以下のように表すことができる。  \n",
    "\n",
    "$\\begin{eqnarray}\n",
    "h(x)=\n",
    "\\left\\{\n",
    "\\begin{array}{l}\n",
    "x&(x>0)\\\\\n",
    "0&(x\\leq0)\n",
    "\\end{array}\n",
    "\\right.\n",
    "\\nonumber\n",
    "\\end{eqnarray}$  \n",
    "  \n",
    "Pythonでの実装は以下のように書ける。   "
   ]
  },
  {
   "cell_type": "code",
   "execution_count": 13,
   "metadata": {},
   "outputs": [],
   "source": [
    "def relu(x):\n",
    "    return np.maximum(0, x)"
   ]
  },
  {
   "cell_type": "markdown",
   "metadata": {},
   "source": [
    "NumPyの`maximum`という関数はを使うと、簡単に実装できた。  \n",
    "`maximum`関数は入力された値から大きい方の値を選んで出力してくれる。  \n",
    "  \n",
    "ReLuのグラフは以下のようになる。"
   ]
  },
  {
   "cell_type": "code",
   "execution_count": 14,
   "metadata": {
    "scrolled": true
   },
   "outputs": [
    {
     "data": {
      "image/png": "[encoded data removed]",
      "text/plain": [
       "<Figure size 432x288 with 1 Axes>"
      ]
     },
     "metadata": {},
     "output_type": "display_data"
    }
   ],
   "source": [
    "x = np.arange(-5, 5, 0.1)\n",
    "y = relu(x)\n",
    "plt.plot(x, y)\n",
    "plt.xlabel('x')\n",
    "plt.ylabel('y')\n",
    "plt.ylim(-1, 5.5)\n",
    "plt.title('ReLu')\n",
    "plt.show()"
   ]
  },
  {
   "cell_type": "markdown",
   "metadata": {},
   "source": [
    "## ニューラルネットワークの内積\n",
    "  \n",
    "まずはNumPyについて。  \n",
    "  \n",
    "`np.ndim(A)`で次元数を取得可能。  \n",
    "`A.shape`で配列の形状を知ることができる。  \n",
    "`np.dot(A, B)`で内積の計算が可能。  \n",
    "  \n",
    "ではNumPy行列を利用して、実際にニューラルネットワークの実装を行っていく。  \n",
    "実装に当たって$X$、$W$、$Y$の形状に注意する。  \n",
    "特に$X$と$W$の対応する次元の要素数が一致していることが重要。"
   ]
  },
  {
   "cell_type": "code",
   "execution_count": 15,
   "metadata": {},
   "outputs": [
    {
     "data": {
      "text/plain": [
       "(2,)"
      ]
     },
     "execution_count": 15,
     "metadata": {},
     "output_type": "execute_result"
    }
   ],
   "source": [
    "X = np.array([1, 2])\n",
    "X.shape"
   ]
  },
  {
   "cell_type": "code",
   "execution_count": 16,
   "metadata": {},
   "outputs": [
    {
     "name": "stdout",
     "output_type": "stream",
     "text": [
      "[[1 3 5]\n",
      " [2 4 6]]\n",
      "(2, 3)\n"
     ]
    }
   ],
   "source": [
    "W = np.array([[1, 3, 5], [2, 4, 6]])\n",
    "print(W)\n",
    "print(W.shape)"
   ]
  },
  {
   "cell_type": "code",
   "execution_count": 17,
   "metadata": {},
   "outputs": [
    {
     "name": "stdout",
     "output_type": "stream",
     "text": [
      "[ 5 11 17]\n"
     ]
    }
   ],
   "source": [
    "Y = np.dot(X, W)\n",
    "print(Y)"
   ]
  },
  {
   "cell_type": "markdown",
   "metadata": {},
   "source": [
    "このように`np.dot(A, B)`（内積）を利用することによって、$Y$の結果を一度に計算することができる。  \n",
    "つまり、$Y$の要素が10,000個あった場合でも、一度の演算で計算できるという利点がある。  \n",
    "もし`np.dot(A, B)`を使わなければ、$Y$の要素を一つずつ取り出して計算したり、`for`を回さなければならず面倒。  "
   ]
  },
  {
   "cell_type": "markdown",
   "metadata": {},
   "source": [
    "## 3層ニューラルネットワークの実装\n",
    "  \n",
    "それでは実践的なニューラルネットワークの実装を行う。  \n",
    "ここでは、入力層は2つ、1つ目の隠れ層は3つ、2つ目の隠れ層は2つ、出力層は2つの3層ニューラルネットワークを実装する。  \n",
    "添字については以下のように記載する。  \n",
    "  \n",
    "$\\begin{eqnarray}x_{2}\\nonumber\\end{eqnarray}$： 入力層の2番目の入力値  \n",
    "  \n",
    "$\\begin{eqnarray}a_{3}^{(1)}\\nonumber\\end{eqnarray}$：　第1層目の3番目のニューロン  \n",
    "  \n",
    "$\\begin{eqnarray}w_{32}^{(1)}\\nonumber\\end{eqnarray}$：　第1層目のニューロンへの重み／前層の2番目のニューロンから次層の3番目のニューロンへ  \n",
    "  \n",
    "つまり以下のようになる。  \n",
    "  \n",
    "$\\begin{eqnarray}{\\Large x_{2}}\n",
    "\\ \\ \\  {\\small \\begin{split}\\longrightarrow \\\\ w_{32}^{(1)}\\end{split}}\n",
    "\\ \\ \\ \\Large{a_{3}^{(1)}}\\nonumber\\end{eqnarray}$  \n",
    "  \n",
    "また、バイアス$b$は次のように表記する。  \n",
    "  \n",
    "$\\begin{eqnarray}b_{3}^{(1)}\\nonumber\\end{eqnarray}$：　第1層目の3番目のバイアス  \n",
    "  \n",
    "  \n",
    "$\\begin{eqnarray}a_{1}^{(1)}\\nonumber\\end{eqnarray}$を数式で表すと以下のようになる。  \n",
    "  \n",
    "$\\begin{eqnarray}a_{1}^{(1)}\n",
    "=w_{11}^{(1)}x_{1}+w_{12}^{(1)}x_{2}+b_{1}^{(1)}\\nonumber\\end{eqnarray}$  \n",
    "  \n",
    "  \n",
    "また、内積を用いると第1層目の「重み付き和」は次の式でまとめて表すことができる。  \n",
    "  \n",
    "$\\begin{eqnarray}\\bf{A^{(\\rm 1)}\n",
    "=XW^{(\\rm 1)} {\\rm +} B^{(\\rm 1)}}\\nonumber\\end{eqnarray}$    \n",
    "  \n",
    "ただし、  $\\begin{eqnarray}\\bf{A^{(\\rm 1)}}\\nonumber\\end{eqnarray}$ 、\n",
    "$\\begin{eqnarray}\\bf{X}\\nonumber\\end{eqnarray}$ 、\n",
    "$\\begin{eqnarray}\\bf{W^{(\\rm 1)}}\\nonumber\\end{eqnarray}$、\n",
    "$\\begin{eqnarray}\\bf{B^{(\\rm 1)}}\\nonumber\\end{eqnarray}$は下記の通り。  \n",
    "  \n",
    "$\\begin{eqnarray}\\bf{A^{(\\rm 1)}}\n",
    "=\\big(\n",
    "\\rm a_{\\rm 1}^{(\\rm 1)}\\ \\rm a_{\\rm 2}^{(\\rm 1)}\\ \\rm a_{\\rm 3}^{(\\rm 1)}\n",
    "\\big)\\nonumber\\end{eqnarray}$    \n",
    "  \n",
    "$\\begin{eqnarray}\\bf{X}\n",
    "=\\big(\\rm x_{\\rm 1}\\ \\rm x_{\\rm 2}\\big)\\nonumber\\end{eqnarray}$      \n",
    "  \n",
    "$\\begin{eqnarray}\\bf{W^{(\\rm 1)}}\n",
    "=\\left(\\begin{array}{l}\n",
    "\\rm w_{\\rm 11}^{(\\rm 1)}\\ \\rm w_{\\rm 21}^{(\\rm 1)}\\ \\rm w_{\\rm 31}^{(\\rm 1)}\n",
    "\\\\ \\rm w_{\\rm 12}^{(\\rm 1)}\\ \\rm w_{\\rm 22}^{(\\rm 1)}\\ \n",
    "\\rm w_{\\rm 32}^{(\\rm 1)}\\end{array}\\right)\\nonumber\\end{eqnarray}$      \n",
    "  \n",
    "$\\begin{eqnarray}\\bf{B^{(\\rm 1)}}\n",
    "=\\big(\\rm b_{\\rm 1}^{(\\rm 1)}\\ \\rm b_{\\rm 2}^{(\\rm 1)}\\ \n",
    "\\rm b_{\\rm 3}^{(\\rm 1)}\\big)\\nonumber\\end{eqnarray}$      \n",
    "  \n",
    "それでは、実際に\n",
    "$\\begin{eqnarray}\\bf{A^{(\\rm 1)}=\n",
    "XW^{(\\rm 1)}+B^{(\\rm 1)}}\\nonumber\\end{eqnarray}$を実装してみる。  \n",
    "  "
   ]
  },
  {
   "cell_type": "code",
   "execution_count": 18,
   "metadata": {},
   "outputs": [
    {
     "name": "stdout",
     "output_type": "stream",
     "text": [
      "(2, 3)\n",
      "(2,)\n",
      "(3,)\n"
     ]
    }
   ],
   "source": [
    "X = np.array([1.0, 0.5])\n",
    "W1 = np.array([[0.1, 0.3, 0.5],[0.2, 0.4, 0.6]])\n",
    "B1 = np.array([0.1, 0.2, 0.3])\n",
    "\n",
    "print(W1.shape)  # (2, 3)\n",
    "print(X.shape)  # (2,)\n",
    "print(B1.shape)  # (3,)\n",
    "\n",
    "A1 = np.dot(X, W1) + B1"
   ]
  },
  {
   "cell_type": "markdown",
   "metadata": {},
   "source": [
    "次に、第1層目の活性化関数によるプロセスを見ていく。    \n",
    "隠れ層での重み付き和を$a$、活性化関数で変換された信号を$z$、活性化関数を$h(x)$とすると、例えば第１層の１番目の変換後の信号は以下のようになる。  \n",
    "  \n",
    "$\\begin{eqnarray}z_{1}^{(1)}\\ =\\ h\\ (a_{1}^{(1)})\\end{eqnarray}$  "
   ]
  },
  {
   "cell_type": "code",
   "execution_count": 19,
   "metadata": {},
   "outputs": [
    {
     "name": "stdout",
     "output_type": "stream",
     "text": [
      "[0.3 0.7 1.1]\n",
      "[0.57444252 0.66818777 0.75026011]\n"
     ]
    }
   ],
   "source": [
    "Z1 = sigmoid(A1)\n",
    "\n",
    "print(A1)\n",
    "print(Z1)"
   ]
  },
  {
   "cell_type": "markdown",
   "metadata": {},
   "source": [
    "同じように第1層から第2層目までの実装を行う。"
   ]
  },
  {
   "cell_type": "code",
   "execution_count": 20,
   "metadata": {},
   "outputs": [
    {
     "name": "stdout",
     "output_type": "stream",
     "text": [
      "(3,)\n",
      "(3, 2)\n",
      "(2,)\n"
     ]
    }
   ],
   "source": [
    "W2 = np.array([[0.1, 0.4], [0.2, 0.5], [0.3, 0.6]])\n",
    "B2 = np.array([0.1, 0.2])\n",
    "\n",
    "print(Z1.shape)  # (3,)\n",
    "print(W2.shape)  # (3, 2)\n",
    "print(B2.shape)  # (2,)\n",
    "\n",
    "A2 = np.dot(Z1, W2) + B2\n",
    "Z2 = sigmoid(A2)"
   ]
  },
  {
   "cell_type": "markdown",
   "metadata": {},
   "source": [
    "最後に第2層目から出力層までの実装もほとんど同じだが、活性化関数のみ変わる。  \n",
    "出力層での活性化関数は解く問題によって変わる。  \n",
    "**回帰では恒等関数、2クラス分類ではシグモイド関数、  \n",
    "他クラス分類ではソフトマックス関数を使うのが一般的。**  \n",
    "  \n",
    "ここでは、活性化関数に恒等関数を使用する。  \n",
    "今までの流れと統一するため、`identity_function`という  \n",
    "関数を定義して利用しているが、実際には無くても良い。  "
   ]
  },
  {
   "cell_type": "code",
   "execution_count": 21,
   "metadata": {},
   "outputs": [],
   "source": [
    "def identity_function(x):\n",
    "    return x\n",
    "\n",
    "W3 = np.array([[0.1, 0.3],[0.2, 0.4]])\n",
    "B3 = np.array([0.1, 0.2])\n",
    "\n",
    "A3 = np.dot(Z2, W3) + B3\n",
    "Y = identity_function(A3)"
   ]
  },
  {
   "cell_type": "markdown",
   "metadata": {},
   "source": [
    "今まで実装してきたものをまとめると以下のようになる。"
   ]
  },
  {
   "cell_type": "code",
   "execution_count": 22,
   "metadata": {},
   "outputs": [
    {
     "name": "stdout",
     "output_type": "stream",
     "text": [
      "[0.31682708 0.69627909]\n"
     ]
    }
   ],
   "source": [
    "def init_network():\n",
    "    network = {}\n",
    "    network['W1'] = np.array([[0.1, 0.3, 0.5],[0.2, 0.4, 0.6]])\n",
    "    network['b1'] = np.array([0.1, 0.2, 0.3])\n",
    "    network['W2'] = np.array([[0.1, 0.4], [0.2, 0.5], [0.3, 0.6]])\n",
    "    network['b2'] = np.array([0.1, 0.2])\n",
    "    network['W3'] = np.array([[0.1, 0.3],[0.2, 0.4]])\n",
    "    network['b3'] = np.array([0.1, 0.2])\n",
    "    \n",
    "    return network\n",
    "\n",
    "def forward(network, x):\n",
    "    W1, W2, W3 = network['W1'], network['W2'], network['W3']\n",
    "    b1, b2, b3 = network['b1'], network['b2'], network['b3']\n",
    "    \n",
    "    a1 = np.dot(x, W1) + b1\n",
    "    z1 = sigmoid(a1)\n",
    "    a2 = np.dot(z1, W2) + b2\n",
    "    z2 = sigmoid(a2)\n",
    "    a3 = np.dot(z2, W3) + b3\n",
    "    y = identity_function(a3)\n",
    "    \n",
    "    return y\n",
    "\n",
    "network = init_network()\n",
    "x = np.array([1.0, 0.5])\n",
    "y = forward(network, x)\n",
    "print(y)  # [0.31682708 0.69627909]"
   ]
  },
  {
   "cell_type": "markdown",
   "metadata": {},
   "source": [
    "## 出力層の設計\n",
    "  \n",
    "ニューラルネットワークは分類と回帰の両方に用いることができるが、活性化関数を変更する必要がある。  \n",
    "先程も書いた通り**回帰問題では恒等関数を、分類問題ではソフトマックス関数を使うのが一般的。**  \n",
    "  \n",
    "### 恒等関数とソフトマックス関数 \n",
    "恒等関数は入力をそのまま出力する。  \n",
    "一方ソフトマックス関数は次のように表される。  \n",
    "  \n",
    "$\\begin{eqnarray}y_{k}=\n",
    "\\frac{exp(a_{k})}{\\sum^{n}_{i=1}exp(a_{i})} \\nonumber\\end{eqnarray}$\n",
    "  \n",
    "ここでは出力層が全部で$n$個あるネットワークの$k$番目の出力$y_{k}$を求める計算式を表している。  \n",
    "  \n",
    "ソフトマックスの出力は、すべての入力信号から矢印による結びつきがある。  \n",
    "それは上の式の分母からわかるように、出力の各ニューロンが全ての入力信号から影響を受けることになるから。  \n",
    "  \n",
    "それでは実際にソフトマックス関数を実装してみる。  "
   ]
  },
  {
   "cell_type": "code",
   "execution_count": 23,
   "metadata": {},
   "outputs": [],
   "source": [
    "def softmax(a):\n",
    "    exp_a = np.exp(a)\n",
    "    sum_exp_a = np.sum(exp_a)\n",
    "    y = exp_a / sum_exp_a\n",
    "    \n",
    "    return y"
   ]
  },
  {
   "cell_type": "markdown",
   "metadata": {},
   "source": [
    "上の関数は一応ソフトマックス関数を正しく表現できているが、*オーバーフロー*が起きてしまう。  \n",
    "オーバーフローとは、簡単に言うとコンピュータが表現しきれない値が出てきてしまうこと。  \n",
    "例えば、$e^{100}$は0が40個以上も並び、$e^{1000}$になると無限大を表す`inf`が帰ってくる。  "
   ]
  },
  {
   "cell_type": "code",
   "execution_count": 24,
   "metadata": {
    "scrolled": true
   },
   "outputs": [
    {
     "name": "stdout",
     "output_type": "stream",
     "text": [
      "1.0\n",
      "nan\n"
     ]
    },
    {
     "name": "stderr",
     "output_type": "stream",
     "text": [
      "/home/tk/.local/lib/python3.5/site-packages/ipykernel_launcher.py:2: RuntimeWarning: overflow encountered in exp\n",
      "  \n",
      "/home/tk/.local/lib/python3.5/site-packages/ipykernel_launcher.py:4: RuntimeWarning: invalid value encountered in double_scalars\n",
      "  after removing the cwd from sys.path.\n"
     ]
    }
   ],
   "source": [
    "print(softmax(10))\n",
    "print(softmax(1000))  # error"
   ]
  },
  {
   "cell_type": "markdown",
   "metadata": {},
   "source": [
    "以下のような改善案を考えてみる。\n",
    "\n",
    "$\\begin{eqnarray}\n",
    "\\begin{split}\n",
    "y_{k}=\\frac{exp(a_{k})}{\\sum^{n}_{i=1}exp(a_{i})}\n",
    "&&=\\frac{Cexp(a_{k})}{C\\sum^{n}_{i=1}exp(a_{i})}\\\\\n",
    "&&=\\frac{exp(a_{k}+logC)}{\\sum^{n}_{i=1}exp(a_{i}+logC)}\\\\\n",
    "&&=\\frac{exp(a_{k}+{\\acute C})}{\\sum^{n}_{i=1}exp(a_{i}+{\\acute C})}\n",
    "\\end{split}\n",
    "\\nonumber\n",
    "\\end{eqnarray}$  \n",
    "  \n",
    "まず $C$ という任意の定数を分母と分子にかけ、指数関数の中に移動させ $logC$ とし、  \n",
    "その後 $logC$ を ${\\acute C}$ という別の記号に置き換えている。  \n",
    "  \n",
    "ここからわかることは、ソフトマックス関数の指数関数の計算を行う際には、  \n",
    "何らかの定数を足し算（あるいは引き算）しても結果は変わらないということ。  \n",
    "**つまり、オーバーフロー対策として、入力値に応じた大きさの定数を引けば解決する。  \n",
    "実務では、入力信号の最大値を ${\\acute C}$ として用いることが一般的らしい。**"
   ]
  },
  {
   "cell_type": "code",
   "execution_count": 25,
   "metadata": {},
   "outputs": [],
   "source": [
    "def softmax(a):\n",
    "    c = np.max(a)\n",
    "    exp_a = np.exp(a - c)\n",
    "    sum_exp_a = np.sum(exp_a)\n",
    "    y = exp_a / sum_exp_a\n",
    "    \n",
    "    return y"
   ]
  },
  {
   "cell_type": "code",
   "execution_count": 26,
   "metadata": {},
   "outputs": [
    {
     "name": "stdout",
     "output_type": "stream",
     "text": [
      "[0.01821127 0.24519181 0.73659691]\n",
      "1.0\n"
     ]
    }
   ],
   "source": [
    "a = np.array([0.3, 2.9, 4.0])\n",
    "y = softmax(a)\n",
    "print(y)\n",
    "print(np.sum(y))"
   ]
  },
  {
   "cell_type": "markdown",
   "metadata": {},
   "source": [
    "ソフトマックス関数の出力は0から1までの間の実数になり、総和は1になる。  \n",
    "総和が1になるという性質から、ソフトマックス関数の出力を確率として扱うことができる。  \n",
    "  \n",
    "上の例では、$y[0]$の確率が0.018（1.8%）、$y[1]$の確率が0.245（24.5%）、$y[2]$の確率が0.736（73.6%）だと解釈できる。  \n",
    "  \n",
    "**ここでの注意点は、ソフトマックス関数を適用しても各要素の大小関係は変わらないということ。**  \n",
    "これは、指数関数が単調増加する関数であることに起因する。  \n",
    "実際上の例では$a$の大小関係と$y$の大小関係は変わっていない。  \n",
    "  \n",
    "ニューラルネットワークのクラス分類では、一般的に出力の一番多いニューロンに相当するクラスだけを認識結果とする。  \n",
    "そして、ソフトマックス関数を適応しても一番大きいニューロンの場所は変わらない。  \n",
    "なので、ニューラルネットワークが分類を行う際には、出力層のソフトマックス関数を省力することができる。  \n",
    "**実際の問題では、指数関数の計算はそれなりにコンピュータの計算が必要になるので、  \n",
    "出力層のソフトマックス関数は省略するのが一般的。**   "
   ]
  },
  {
   "cell_type": "markdown",
   "metadata": {},
   "source": [
    "### 出力層のニューロンの数\n",
    "  \n",
    "出力層のニューロンの数は、解くべき問題に応じて適宜決める必要がある。  \n",
    "クラス分類では、クラス数を出力層のニューロンの数に設定するのが一般的。  \n",
    "例えば、入力画像が0〜9のどれかを予想する場合は、出力層のニューロンを10個にする。  \n",
    "  \n",
    "  \n",
    "## MNIST  \n",
    "### MNISTデータセット \n",
    "  \n",
    "MNISTの画像データは28×28のグレー画像で、各ピクセルは0から255までの値を取る。  \n",
    "それぞれの画像データに対しては「7」「2」「1」といったように、対応するラベルが与えられている。  \n",
    "  \n",
    "本書では、mnist.pyを使ってMNISTのダウンロードからNumpy配列への変換までを行う。  "
   ]
  },
  {
   "cell_type": "code",
   "execution_count": 27,
   "metadata": {},
   "outputs": [
    {
     "name": "stdout",
     "output_type": "stream",
     "text": [
      "(60000, 784)\n",
      "(60000,)\n",
      "(10000, 784)\n",
      "(10000,)\n"
     ]
    }
   ],
   "source": [
    "import sys, os\n",
    "sys.path.append(os.pardir)  # for importing from the parent directory\n",
    "from dataset.mnist import load_mnist\n",
    "\n",
    "(x_train, t_train), (x_test, t_test) = load_mnist(flatten=True, normalize=False)\n",
    "\n",
    "print(x_train.shape)\n",
    "print(t_train.shape)\n",
    "print(x_test.shape)\n",
    "print(t_test.shape)"
   ]
  },
  {
   "cell_type": "markdown",
   "metadata": {},
   "source": [
    "`load_mnist`の初回呼び出し時にはMNISTデータのダウンロードを行うため、数分時間がかかる。  \n",
    "2回目以降は、ローカルに保存したファイル（pickleファイル）の読み込みを行うため、すぐに処理が終わる。  \n",
    "  \n",
    "`load_mnist`は「（訓練画像, 訓練ラベル）, （テスト画像, テストラベル）」という形式で読み込んだMNISTデータを返す。  \n",
    "  \n",
    "|引数名|役割|\n",
    "|:-:|---|\n",
    "|normalize|入力画像を0〜1までの値に正規化する（Falseなら0〜255）|\n",
    "|flatten|入力画像を1次元配列（784要素）にする（Falseなら1×28×28の3次元配列）|\n",
    "|one_hot_label|ラベルをone-hot表現（[0, 1, 0, 0, ...]）にする（Falseならラベルが数字名）|\n",
    "  \n",
    "確認のためMNIST画像を表示させてみる。  \n",
    "(コード改良時の参考サイト：[Jupyter上でPIL画像を表示する](https://qiita.com/Tatejimaru137/items/44646c9bb3799768fa81))"
   ]
  },
  {
   "cell_type": "code",
   "execution_count": 28,
   "metadata": {},
   "outputs": [
    {
     "name": "stdout",
     "output_type": "stream",
     "text": [
      "5\n",
      "(784,)\n",
      "(28, 28)\n"
     ]
    },
    {
     "data": {
      "image/png": "[encoded data removed]",
      "text/plain": [
       "<Figure size 432x288 with 1 Axes>"
      ]
     },
     "metadata": {},
     "output_type": "display_data"
    }
   ],
   "source": [
    "%matplotlib inline\n",
    "import sys, os\n",
    "sys.path.append(os.pardir)\n",
    "import numpy as np\n",
    "from dataset.mnist import load_mnist\n",
    "from PIL import Image\n",
    "import matplotlib.pyplot as plt\n",
    "\n",
    "def img_show(img):\n",
    "    pil_img = Image.fromarray(np.uint8(img))\n",
    "    plt.imshow(pil_img)\n",
    "\n",
    "(x_train, t_train), (x_test, t_test) \\\n",
    "= load_mnist(flatten=True, normalize=False)\n",
    "\n",
    "img = x_train[0]\n",
    "label = t_train[0]\n",
    "print(label)  # 5\n",
    "\n",
    "print(img.shape)  # (784,)\n",
    "img = img.reshape(28, 28)  # transform into the default size\n",
    "print(img.shape)  # (28, 28)\n",
    "\n",
    "img_show(img)"
   ]
  },
  {
   "cell_type": "markdown",
   "metadata": {},
   "source": [
    "ここでは、`flatten=True`として読み込んだので、一次元配列から三次元配列へ戻さないといけないことに注意する。  \n",
    "  \n",
    "## ニューラルネットワークの推論処理  \n",
    "  \n",
    "それでは、MNISTデータセットに対して推論処理を行うニューラルネットワークを実装する。  \n",
    "ネットワークは、入力層を784個、出力層を10個のニューロンで構成する。  \n",
    "また50個と100個のニューロンからなる隠れ層を2つ用意する。  "
   ]
  },
  {
   "cell_type": "code",
   "execution_count": 29,
   "metadata": {},
   "outputs": [],
   "source": [
    "import sys, os\n",
    "sys.path.append(os.pardir)\n",
    "import numpy as np\n",
    "import pickle\n",
    "from dataset.mnist import load_mnist\n",
    "\n",
    "def get_data():\n",
    "    (x_train, t_train), (x_test, t_test) \\\n",
    "    = load_mnist(normalize=True, flatten=True, one_hot_label=False)\n",
    "    return x_test, t_test\n",
    "\n",
    "\n",
    "def init_network():\n",
    "    with open(\"sample_weight.pkl\", 'rb') as f:\n",
    "        network = pickle.load(f)\n",
    "    return network\n",
    "\n",
    "\n",
    "def predict(network, x):\n",
    "    W1, W2, W3 = network['W1'], network['W2'], network['W3']\n",
    "    b1, b2, b3 = network['b1'], network['b2'], network['b3']\n",
    "\n",
    "    a1 = np.dot(x, W1) + b1\n",
    "    z1 = sigmoid(a1)\n",
    "    a2 = np.dot(z1, W2) + b2\n",
    "    z2 = sigmoid(a2)\n",
    "    a3 = np.dot(z2, W3) + b3\n",
    "    y = softmax(a3)\n",
    "\n",
    "    return y"
   ]
  },
  {
   "cell_type": "markdown",
   "metadata": {},
   "source": [
    "`init_network()`では、pickleファイルのsample_weight.pklに保存された学習済みの重みパラメータを読み込む。このファイルには、重みとバイアスのパラメータがディクショナリ型の変数として保存されている。  \n",
    "（Jupyter Notebook上ではpickleファイルが生成されないっぽいのでpythonファイルに保存して実行しないとエラーを吐く）"
   ]
  },
  {
   "cell_type": "code",
   "execution_count": null,
   "metadata": {},
   "outputs": [],
   "source": [
    "x, t = get_data()\n",
    "network = init_network()\n",
    "accuracy_cnt = 0\n",
    "for i in range(len(x)):\n",
    "    y = predict(network, x[i])\n",
    "    p= np.argmax(y) # get index of the elemnt with the highest probability\n",
    "    if p == t[i]:\n",
    "        accuracy_cnt += 1\n",
    "\n",
    "print(\"Accuracy:\" + str(float(accuracy_cnt) / len(x)))"
   ]
  },
  {
   "cell_type": "markdown",
   "metadata": {},
   "source": [
    "ここでは最初にMNISTデータセットを取得し、ネットワークを生成する。  \n",
    "次に、`x`に格納された画像データを1枚ずつｆｏｒ分で取り出し、`predict()`関数によって分類を行う。  \n",
    "`predict()`の結果は各ラベルの確率がNumPy配列として出力される。  \n",
    "例： [0.1, 0.2, 0.3, ...]（「0」の確率が0.1、「1」の確率が0.2…という意味）  \n",
    "そして、この確率リストの中から一番大きな値のインデックスを取り出し、それを予測結果とする。  \n",
    "  \n",
    "なお、今回設定した`normalize=True`（データの値を0.0〜1.0の間にすること）を*正規化*と言う。  \n",
    "また、ニューラルネットワークの入力データに対して何らかの決まった変換を行うことを*前処理*と言う。  \n",
    "  \n",
    "## バッチ処理  \n",
    "  \n",
    "図を見たほうがわかりやすいので本書のP78〜79を参照。  \n",
    "  \n",
    "簡単に言うと、入力データを100個など単位数ごとに扱うこと。  \n",
    "バッチ処理により1枚あたりの処理時間を短縮できるので便利。  \n",
    "（大きな配列を用いることで計算効率が上がるのと、データ転送の負荷の軽減などが主な理由）  \n",
    "  \n",
    "先程のコードをバッチ処理に対応させると以下のようになる。"
   ]
  },
  {
   "cell_type": "code",
   "execution_count": null,
   "metadata": {},
   "outputs": [],
   "source": [
    "x, t = get_data()\n",
    "network = init_network()\n",
    "\n",
    "batch_size = 100 # バッチの数\n",
    "accuracy_cnt = 0\n",
    "\n",
    "for i in range(0, len(x), batch_size):\n",
    "    x_batch = x[i:i+batch_size]\n",
    "    y_batch = predict(network, x_batch)\n",
    "    p = np.argmax(y_batch, axis=1)\n",
    "    accuracy_cnt += np.sum(p == t[i:i+batch_size])\n",
    "\n",
    "print(\"Accuracy:\" + str(float(accuracy_cnt) / len(x)))"
   ]
  },
  {
   "cell_type": "markdown",
   "metadata": {},
   "source": [
    "`range(start, end, step)`は`start`から`ｅｎd`まで`ｓｔｅｐ`ごとに生成する変数。"
   ]
  },
  {
   "cell_type": "code",
   "execution_count": 31,
   "metadata": {},
   "outputs": [
    {
     "name": "stdout",
     "output_type": "stream",
     "text": [
      "[0, 1, 2, 3, 4, 5, 6, 7, 8, 9]\n",
      "[0, 3, 6, 9]\n"
     ]
    }
   ],
   "source": [
    "print(list(range(0, 10)))\n",
    "print(list(range(0, 10, 3)))"
   ]
  },
  {
   "cell_type": "markdown",
   "metadata": {},
   "source": [
    "`range(0, len(x), batch_size)`は`x`をバッチサイズごとに区切ったインデックスのリストなので、そのリストの要素`i`番目から`i+batch_size`番目までを1つのバッチ`x_batch`に指定している。  \n",
    "そして`argmax()`で最大値のインデックスを取得しているが、`axis=1`という引数に注意する。  \n",
    "これは100×10の配列の中で1次元目の要素の中で最大値を見つけるよう設定している。（0次元目が最初の次元に対応するので1次元目の要素は最後の10個のラベルに対応する）"
   ]
  }
 ],
 "metadata": {
  "kernelspec": {
   "display_name": "Python 3",
   "language": "python",
   "name": "python3"
  },
  "language_info": {
   "codemirror_mode": {
    "name": "ipython",
    "version": 3
   },
   "file_extension": ".py",
   "mimetype": "text/x-python",
   "name": "python",
   "nbconvert_exporter": "python",
   "pygments_lexer": "ipython3",
   "version": "3.5.4"
  }
 },
 "nbformat": 4,
 "nbformat_minor": 2
}
