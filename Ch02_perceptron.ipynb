{
 "cells": [
  {
   "cell_type": "markdown",
   "metadata": {},
   "source": [
    "# Chapter 2: Perceptron\n",
    "\n",
    "## 本章のまとめ\n",
    "  \n",
    "- パーセプトロンは入出力を備えたアルゴリズムである。ある入力を与えたら、決まった値が出力される。\n",
    "- パーセプトロンでは、「重み」と「バイアス」をパラメータとして設定する。\n",
    "- パーセプトロンを用いれば、ANDやORゲートなどの論理回路を表現できる。\n",
    "- XORゲートは単層のパーセプトロンでは表現できない。\n",
    "- 2層のパーセプトロンを用いれば、XORゲートを表現できる。\n",
    "- 単層のパーセプトロンは線形領域だけしか表現できないのに対して、多層のパーセプトロンは非線形領域を表現できる。\n",
    "- 多層のパーセプトロンは、（理論上）コンピュータを表現できる。"
   ]
  },
  {
   "cell_type": "markdown",
   "metadata": {},
   "source": [
    "## パーセプトロンとは\n",
    "*パーセプトロン*とは1957年に考案されたアルゴリズムで、現在のニューラルネットワークの起源にあたる。  \n",
    "パーセプトロン（ここでは人工ニューロンや単純パーセプトロンをそう呼ぶことにする）は**信号を「流す（1）／流さない（0）」の2値を取る。**  \n",
    "パーセプトロンを構成するユニットを*「ニューロン」*や*「ノード」*と言う。  \n",
    "**ニューロンでは、送られてきた信号の総和が計算され、その総和がある限界値を超えた場合に1を出力する。**  \n",
    "その限界値を*閾値*と呼び、$\\theta$で表す。"
   ]
  },
  {
   "cell_type": "markdown",
   "metadata": {},
   "source": [
    "## 単純な論理回路\n",
    "\n",
    "### ANDゲート\n",
    "ANDゲートはAかつBが真の場合のみ真の値を持つ。  \n",
    "`（A, B） = (0, 0) -> 0`  \n",
    "`（A, B） = (1, 0) -> 0`  \n",
    "`（A, B） = (0, 1) -> 0`  \n",
    "`（A, B） = (1, 1) -> 1`  \n",
    "\n",
    "### NANDゲートとORゲート\n",
    "NANDゲートはNotANDゲートの略でANDと逆の出力を行う。  \n",
    "`（A, B） = (0, 0) -> 1`  \n",
    "`（A, B） = (1, 0) -> 1`  \n",
    "`（A, B） = (0, 1) -> 1`  \n",
    "`（A, B） = (1, 1) -> 0`  \n",
    "  \n",
    "ORゲートはAまたはBが真の場合に真の値を持つ。  \n",
    "`（A, B） = (0, 0) -> 0`  \n",
    "`（A, B） = (1, 0) -> 1`  \n",
    "`（A, B） = (0, 1) -> 1`  \n",
    "`（A, B） = (1, 1) -> 1`  "
   ]
  },
  {
   "cell_type": "markdown",
   "metadata": {},
   "source": [
    "## Pythonでの実装\n",
    "\n",
    "### ANDゲートの実装\n",
    "まずは引数として`x1`と`x2`を受け取るANDという関数を定義する。  \n",
    "\n",
    "$\\begin{eqnarray}\n",
    "\\left\\{\n",
    "\\begin{array}{l}\n",
    "y=0&(w_{1}x_{1}+w_{2}x_{2}\\leq\\theta)\\\\\n",
    "y=1&(w_{1}x_{1}+w_{2}x_{2}>\\theta)\n",
    "\\end{array}\n",
    "\\right.\n",
    "\\end{eqnarray}$  \n",
    "\n",
    "という式の$w$（重み）と$\\theta$（閾値）を設定することでANDゲートを表現し、if文で出力する値を定義する。\n"
   ]
  },
  {
   "cell_type": "code",
   "execution_count": 1,
   "metadata": {},
   "outputs": [],
   "source": [
    "def AND(x1, x2):\n",
    "    w1, w2, theta = 0.5, 0.5, 0.7\n",
    "    tmp = x1*w1 + x2*w2\n",
    "    if tmp <= theta:\n",
    "        return 0\n",
    "    elif tmp > theta:\n",
    "        return 1"
   ]
  },
  {
   "cell_type": "code",
   "execution_count": 5,
   "metadata": {
    "scrolled": true
   },
   "outputs": [
    {
     "name": "stdout",
     "output_type": "stream",
     "text": [
      "（A, B） = (0, 0) ->   0\n",
      "（A, B） = (1, 0) ->   0\n",
      "（A, B） = (0, 1) ->   0\n",
      "（A, B） = (1, 1) ->   1\n"
     ]
    }
   ],
   "source": [
    "print('（A, B） = (0, 0) ->  ', AND(0,0))\n",
    "print('（A, B） = (1, 0) ->  ', AND(1,0))\n",
    "print('（A, B） = (0, 1) ->  ', AND(0,1))\n",
    "print('（A, B） = (1, 1) ->  ', AND(1,1))"
   ]
  },
  {
   "cell_type": "markdown",
   "metadata": {},
   "source": [
    "### バイアスの導入\n",
    "$\\begin{eqnarray}\n",
    "\\left\\{\n",
    "\\begin{array}{l}\n",
    "y=0&(w_{1}x_{1}+w_{2}x_{2}\\leq\\theta)\\\\\n",
    "y=1&(w_{1}x_{1}+w_{2}x_{2}>\\theta)\n",
    "\\end{array}\n",
    "\\right.\n",
    "\\end{eqnarray}$  \n",
    "\n",
    "という式を以下のように変形する。  \n",
    "（どちらの式も同値）  \n",
    "\n",
    "$\\begin{eqnarray}\n",
    "\\left\\{\n",
    "\\begin{array}{l}\n",
    "y=0&(b+w_{1}x_{1}+w_{2}x_{2}\\leq0)\\\\\n",
    "y=1&(b+w_{1}x_{1}+w_{2}x_{2}>0)\n",
    "\\end{array}\n",
    "\\right.\n",
    "\\end{eqnarray}$  \n",
    "  \n",
    "このときの$b$をバイアスと呼ぶ。  \n",
    "これを実装すると以下のようになる。"
   ]
  },
  {
   "cell_type": "code",
   "execution_count": 7,
   "metadata": {},
   "outputs": [],
   "source": [
    "import numpy as np\n",
    "\n",
    "def AND(x1, x2):\n",
    "    x = np.array([x1, x2])\n",
    "    w = np.array([0.5, 0.5])\n",
    "    b = -0.7\n",
    "    tmp = np.sum(w*x) + b\n",
    "    if tmp <= 0:\n",
    "        return 0\n",
    "    else:\n",
    "        return 1"
   ]
  },
  {
   "cell_type": "code",
   "execution_count": 8,
   "metadata": {},
   "outputs": [
    {
     "name": "stdout",
     "output_type": "stream",
     "text": [
      "（A, B） = (0, 0) ->   0\n",
      "（A, B） = (1, 0) ->   0\n",
      "（A, B） = (0, 1) ->   0\n",
      "（A, B） = (1, 1) ->   1\n"
     ]
    }
   ],
   "source": [
    "print('（A, B） = (0, 0) ->  ', AND(0,0))\n",
    "print('（A, B） = (1, 0) ->  ', AND(1,0))\n",
    "print('（A, B） = (0, 1) ->  ', AND(0,1))\n",
    "print('（A, B） = (1, 1) ->  ', AND(1,1))"
   ]
  },
  {
   "cell_type": "markdown",
   "metadata": {},
   "source": [
    "ここでは、バイアスは重みとは別の働きをすることに注意する。  \n",
    "重みは入力信号への重要度をコントロールするのに対し、  \n",
    "バイアスは発火のしやすさ（出力信号が1を出力する度合い）をコントロールする。  \n",
    "  \n",
    "バイアスを−0.1にすると、入力信号の総和が0.1を上回るだけで発火するが、  \n",
    "バイアスを−20にすると、総和が20を上回らない限り発火しない。  \n",
    "  \n",
    "NANDゲートとORゲートの実装は以下の通り。  \n",
    "重みとバイアスの値が違うだけで、後はANDゲートと同じになる。"
   ]
  },
  {
   "cell_type": "code",
   "execution_count": 9,
   "metadata": {},
   "outputs": [],
   "source": [
    "def NAND(x1, x2):\n",
    "    x = np.array([x1, x2])\n",
    "    w = np.array([-0.5, -0.5])\n",
    "    b = 0.7\n",
    "    tmp = np.sum(w*x) + b\n",
    "    if tmp <= 0:\n",
    "        return 0\n",
    "    else:\n",
    "        return 1\n",
    "\n",
    "def OR(x1, x2):\n",
    "    x = np.array([x1, x2])\n",
    "    w = np.array([0.5, 0.5])\n",
    "    b = -0.2\n",
    "    tmp = np.sum(w*x) + b\n",
    "    if tmp <= 0:\n",
    "        return 0\n",
    "    else:\n",
    "        return 1"
   ]
  },
  {
   "cell_type": "markdown",
   "metadata": {},
   "source": [
    "### XORゲート\n",
    "XORゲートは排他的論理和とも呼ばれる論理回路のこと。  \n",
    "  \n",
    "`（A, B） = (0, 0) -> 0`  \n",
    "`（A, B） = (1, 0) -> 1`  \n",
    "`（A, B） = (0, 1) -> 1`  \n",
    "`（A, B） = (1, 1) -> 0`  \n",
    "  \n",
    "例えば以下のような式で表した場合、次のような結果になる。  \n",
    "  \n",
    "`y = 0 (-0.5 + x1 + x2 =< 0)`  \n",
    "`y = 1 (-0.5 + x1 + x2  > 0)`  \n",
    "  \n",
    "`（A, B） = (0, 0) -> 0`  \n",
    "`（A, B） = (1, 0) -> 1`  \n",
    "`（A, B） = (0, 1) -> 1`  \n",
    "`（A, B） = (1, 1) -> 1`  \n",
    "  \n",
    "XORゲートは直線では表せない、非線形な領域なので、パーセプトロンでは表現ができない。  \n",
    "実はパーセプトロンは層を重ねることが可能で、多層パーセプトロンを利用すればXORゲートが表現できる。"
   ]
  },
  {
   "cell_type": "markdown",
   "metadata": {},
   "source": [
    "### 多層パーセプトロン\n",
    "ここでは既存のAND, NAND, ORゲートを利用してXORゲートを表現する。  \n",
    "次のように考えてみれば、どのように組み合わせたら良いかがわかる。  \n",
    "  \n",
    "例えばこのような形になると、最後の出力をANDゲートにするとXORゲートの出力になることがわかる。  \n",
    "  \n",
    "`（A, B） = (0, 0) -> (1, 0) --(AND)--> 0`  \n",
    "`（A, B） = (1, 0) -> (1, 1) --(AND)--> 1`  \n",
    "`（A, B） = (0, 1) -> (1, 1) --(AND)--> 1`  \n",
    "`（A, B） = (1, 1) -> (0, 1) --(AND)--> 0`  \n",
    "  \n",
    "二層目の`x1`を`s1`、`x2`を`s2`として、次に`s1`, `s2`を出力する層をそれぞれ考える。  \n",
    "先程の実験から、`s1 = (1, 1, 1, 0)`を満たすのはNAND、`s2 = (0, 1, 1, 1)`を満たすのはORだとわかる。  \n",
    "なので、ここではNAND、ORのそれぞれの出力をANDゲートで出力する関数を実装する。"
   ]
  },
  {
   "cell_type": "code",
   "execution_count": 10,
   "metadata": {},
   "outputs": [],
   "source": [
    "def XOR(x1, x2):\n",
    "    s1 = NAND(x1, x2)\n",
    "    s2 = OR(x1, x2)\n",
    "    y = AND(s1, s2)\n",
    "    return y"
   ]
  },
  {
   "cell_type": "code",
   "execution_count": 11,
   "metadata": {},
   "outputs": [
    {
     "name": "stdout",
     "output_type": "stream",
     "text": [
      "（A, B） = (0, 0) ->   0\n",
      "（A, B） = (1, 0) ->   1\n",
      "（A, B） = (0, 1) ->   1\n",
      "（A, B） = (1, 1) ->   0\n"
     ]
    }
   ],
   "source": [
    "print('（A, B） = (0, 0) ->  ', XOR(0,0))\n",
    "print('（A, B） = (1, 0) ->  ', XOR(1,0))\n",
    "print('（A, B） = (0, 1) ->  ', XOR(0,1))\n",
    "print('（A, B） = (1, 1) ->  ', XOR(1,1))"
   ]
  },
  {
   "cell_type": "markdown",
   "metadata": {},
   "source": [
    "このようにパーセプトロンの層を重ねることで柔軟な表現が可能になる。  \n",
    "多層パーセプトロンを利用すればコンピュータも作れるらしい。  \n",
    "次章ではニューラルネットワークを実装していく。"
   ]
  }
 ],
 "metadata": {
  "kernelspec": {
   "display_name": "Python 3",
   "language": "python",
   "name": "python3"
  },
  "language_info": {
   "codemirror_mode": {
    "name": "ipython",
    "version": 3
   },
   "file_extension": ".py",
   "mimetype": "text/x-python",
   "name": "python",
   "nbconvert_exporter": "python",
   "pygments_lexer": "ipython3",
   "version": "3.5.4"
  }
 },
 "nbformat": 4,
 "nbformat_minor": 2
}
